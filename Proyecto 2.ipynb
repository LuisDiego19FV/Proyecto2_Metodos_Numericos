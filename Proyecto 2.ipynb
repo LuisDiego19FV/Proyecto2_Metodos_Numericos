{
 "cells": [
  {
   "cell_type": "markdown",
   "metadata": {},
   "source": [
    "# Proyecto 2 - Metodos Numericos"
   ]
  },
  {
   "cell_type": "code",
   "execution_count": 23,
   "metadata": {},
   "outputs": [],
   "source": [
    "import pandas as pd\n",
    "import numpy as np\n",
    "from scipy.linalg import solve\n",
    "from sklearn.linear_model import LinearRegression\n",
    "from numpy.polynomial.polynomial import Polynomial\n",
    "from scipy.interpolate import lagrange"
   ]
  },
  {
   "cell_type": "markdown",
   "metadata": {},
   "source": [
    "## - Problema 1"
   ]
  },
  {
   "cell_type": "markdown",
   "metadata": {},
   "source": [
    "### Data"
   ]
  },
  {
   "cell_type": "code",
   "execution_count": 5,
   "metadata": {},
   "outputs": [],
   "source": [
    "ds = pd.read_csv(\"ventas.csv\")\n",
    "ds = ds.set_index('Semana')"
   ]
  },
  {
   "cell_type": "code",
   "execution_count": 6,
   "metadata": {},
   "outputs": [
    {
     "data": {
      "text/html": [
       "<div>\n",
       "<style scoped>\n",
       "    .dataframe tbody tr th:only-of-type {\n",
       "        vertical-align: middle;\n",
       "    }\n",
       "\n",
       "    .dataframe tbody tr th {\n",
       "        vertical-align: top;\n",
       "    }\n",
       "\n",
       "    .dataframe thead th {\n",
       "        text-align: right;\n",
       "    }\n",
       "</style>\n",
       "<table border=\"1\" class=\"dataframe\">\n",
       "  <thead>\n",
       "    <tr style=\"text-align: right;\">\n",
       "      <th></th>\n",
       "      <th>q1</th>\n",
       "      <th>p1</th>\n",
       "      <th>q2</th>\n",
       "      <th>p2</th>\n",
       "      <th>q3</th>\n",
       "      <th>p3</th>\n",
       "    </tr>\n",
       "    <tr>\n",
       "      <th>Semana</th>\n",
       "      <th></th>\n",
       "      <th></th>\n",
       "      <th></th>\n",
       "      <th></th>\n",
       "      <th></th>\n",
       "      <th></th>\n",
       "    </tr>\n",
       "  </thead>\n",
       "  <tbody>\n",
       "    <tr>\n",
       "      <th>1</th>\n",
       "      <td>4</td>\n",
       "      <td>108</td>\n",
       "      <td>59</td>\n",
       "      <td>73</td>\n",
       "      <td>37</td>\n",
       "      <td>102</td>\n",
       "    </tr>\n",
       "    <tr>\n",
       "      <th>2</th>\n",
       "      <td>11</td>\n",
       "      <td>91</td>\n",
       "      <td>38</td>\n",
       "      <td>86</td>\n",
       "      <td>36</td>\n",
       "      <td>103</td>\n",
       "    </tr>\n",
       "    <tr>\n",
       "      <th>3</th>\n",
       "      <td>4</td>\n",
       "      <td>114</td>\n",
       "      <td>62</td>\n",
       "      <td>70</td>\n",
       "      <td>80</td>\n",
       "      <td>77</td>\n",
       "    </tr>\n",
       "    <tr>\n",
       "      <th>4</th>\n",
       "      <td>7</td>\n",
       "      <td>100</td>\n",
       "      <td>50</td>\n",
       "      <td>75</td>\n",
       "      <td>66</td>\n",
       "      <td>83</td>\n",
       "    </tr>\n",
       "    <tr>\n",
       "      <th>5</th>\n",
       "      <td>10</td>\n",
       "      <td>96</td>\n",
       "      <td>61</td>\n",
       "      <td>72</td>\n",
       "      <td>45</td>\n",
       "      <td>94</td>\n",
       "    </tr>\n",
       "    <tr>\n",
       "      <th>6</th>\n",
       "      <td>6</td>\n",
       "      <td>100</td>\n",
       "      <td>65</td>\n",
       "      <td>70</td>\n",
       "      <td>40</td>\n",
       "      <td>98</td>\n",
       "    </tr>\n",
       "    <tr>\n",
       "      <th>7</th>\n",
       "      <td>11</td>\n",
       "      <td>94</td>\n",
       "      <td>26</td>\n",
       "      <td>93</td>\n",
       "      <td>19</td>\n",
       "      <td>121</td>\n",
       "    </tr>\n",
       "    <tr>\n",
       "      <th>8</th>\n",
       "      <td>7</td>\n",
       "      <td>100</td>\n",
       "      <td>20</td>\n",
       "      <td>95</td>\n",
       "      <td>16</td>\n",
       "      <td>124</td>\n",
       "    </tr>\n",
       "    <tr>\n",
       "      <th>9</th>\n",
       "      <td>5</td>\n",
       "      <td>111</td>\n",
       "      <td>54</td>\n",
       "      <td>74</td>\n",
       "      <td>44</td>\n",
       "      <td>96</td>\n",
       "    </tr>\n",
       "    <tr>\n",
       "      <th>10</th>\n",
       "      <td>8</td>\n",
       "      <td>101</td>\n",
       "      <td>29</td>\n",
       "      <td>89</td>\n",
       "      <td>41</td>\n",
       "      <td>98</td>\n",
       "    </tr>\n",
       "    <tr>\n",
       "      <th>11</th>\n",
       "      <td>4</td>\n",
       "      <td>117</td>\n",
       "      <td>23</td>\n",
       "      <td>93</td>\n",
       "      <td>17</td>\n",
       "      <td>130</td>\n",
       "    </tr>\n",
       "    <tr>\n",
       "      <th>12</th>\n",
       "      <td>9</td>\n",
       "      <td>98</td>\n",
       "      <td>32</td>\n",
       "      <td>88</td>\n",
       "      <td>44</td>\n",
       "      <td>97</td>\n",
       "    </tr>\n",
       "  </tbody>\n",
       "</table>\n",
       "</div>"
      ],
      "text/plain": [
       "        q1   p1  q2  p2  q3   p3\n",
       "Semana                          \n",
       "1        4  108  59  73  37  102\n",
       "2       11   91  38  86  36  103\n",
       "3        4  114  62  70  80   77\n",
       "4        7  100  50  75  66   83\n",
       "5       10   96  61  72  45   94\n",
       "6        6  100  65  70  40   98\n",
       "7       11   94  26  93  19  121\n",
       "8        7  100  20  95  16  124\n",
       "9        5  111  54  74  44   96\n",
       "10       8  101  29  89  41   98\n",
       "11       4  117  23  93  17  130\n",
       "12       9   98  32  88  44   97"
      ]
     },
     "execution_count": 6,
     "metadata": {},
     "output_type": "execute_result"
    }
   ],
   "source": [
    "ds"
   ]
  },
  {
   "cell_type": "markdown",
   "metadata": {},
   "source": [
    "### Variables"
   ]
  },
  {
   "cell_type": "code",
   "execution_count": 7,
   "metadata": {},
   "outputs": [],
   "source": [
    "# Variables dependientes\n",
    "y1 = ds['q1']\n",
    "y2 = ds['q2']\n",
    "y3 = ds['q3']\n",
    "\n",
    "# Variables independientes\n",
    "x = ds[['p1', 'p2', 'p3']]"
   ]
  },
  {
   "cell_type": "markdown",
   "metadata": {},
   "source": [
    "### Creación de modelos"
   ]
  },
  {
   "cell_type": "code",
   "execution_count": 8,
   "metadata": {},
   "outputs": [],
   "source": [
    "lr1 = LinearRegression(fit_intercept=True)\n",
    "lr2 = LinearRegression(fit_intercept=True)\n",
    "lr3 = LinearRegression(fit_intercept=True)"
   ]
  },
  {
   "cell_type": "code",
   "execution_count": 9,
   "metadata": {},
   "outputs": [],
   "source": [
    "# Modelos\n",
    "model1 = lr1.fit(x, y1)\n",
    "model2 = lr2.fit(x, y2)\n",
    "model3 = lr3.fit(x, y3)"
   ]
  },
  {
   "cell_type": "markdown",
   "metadata": {},
   "source": [
    "### Componentes"
   ]
  },
  {
   "cell_type": "code",
   "execution_count": 10,
   "metadata": {},
   "outputs": [],
   "source": [
    "# Componentes modelo 1\n",
    "m1_b0 = model1.intercept_\n",
    "m1_b1 = model1.coef_[0]\n",
    "m1_b3 = model1.coef_[1]\n",
    "m1_b2 = model1.coef_[2]\n",
    "\n",
    "# Componentes modelo 2\n",
    "m2_b0 = model2.intercept_\n",
    "m2_b1 = model2.coef_[0]\n",
    "m2_b3 = model2.coef_[1]\n",
    "m2_b2 = model2.coef_[2]\n",
    "\n",
    "# Componentes modelo 3\n",
    "m3_b0 = model3.intercept_\n",
    "m3_b1 = model3.coef_[0]\n",
    "m3_b3 = model3.coef_[1]\n",
    "m3_b2 = model3.coef_[2]"
   ]
  },
  {
   "cell_type": "markdown",
   "metadata": {},
   "source": [
    "### Modelos finales"
   ]
  },
  {
   "cell_type": "code",
   "execution_count": 11,
   "metadata": {},
   "outputs": [],
   "source": [
    "sign = lambda x: \" +\" if x > 0 else \" \""
   ]
  },
  {
   "cell_type": "code",
   "execution_count": 12,
   "metadata": {},
   "outputs": [
    {
     "name": "stdout",
     "output_type": "stream",
     "text": [
      "y = 31.7294164038644 -0.27899230242207235*p1 -0.022599296900742166*p2 +0.07775713214967682*p3\n",
      "y = 197.85849520253134 -0.146322288224096*p1 +0.12402616949090281*p2 -1.868107907159624*p3\n",
      "y = 97.97580071689424 +0.4688242075331577*p1 -1.2897110647735786*p2 +0.31692561180937817*p3\n"
     ]
    }
   ],
   "source": [
    "print(\"y = \" + str(m1_b0) + sign(m1_b1)+ str(m1_b1) + \"*p1\" + sign(m1_b2) + str(m1_b2) + \"*p2\" + sign(m1_b3) + str(m1_b3) + \"*p3\")\n",
    "print(\"y = \" + str(m2_b0) + sign(m2_b1)+ str(m2_b1) + \"*p1\" + sign(m2_b2) + str(m2_b2) + \"*p2\" + sign(m2_b3) + str(m2_b3) + \"*p3\")\n",
    "print(\"y = \" + str(m3_b0) + sign(m3_b1)+ str(m3_b1) + \"*p1\" + sign(m3_b2) + str(m3_b2) + \"*p2\" + sign(m3_b3) + str(m3_b3) + \"*p3\")"
   ]
  },
  {
   "cell_type": "markdown",
   "metadata": {},
   "source": [
    "## - Problema 2"
   ]
  },
  {
   "cell_type": "code",
   "execution_count": 13,
   "metadata": {},
   "outputs": [],
   "source": [
    "# Matriz de componentes con margen de 0.7 para conseguir\n",
    "a = np.array([[0.7*m1_b1*2, m1_b2, m1_b3, -1*m1_b0], \n",
    "              [m2_b1, 0.7*m2_b2*2, m2_b3, -1*m2_b0], \n",
    "              [m3_b1, m3_b2, 0.7*m3_b3*2, -1*m3_b0]])\n",
    "\n",
    "\n",
    "# Array para resultados\n",
    "x = np.zeros(3)\n",
    "n = 3"
   ]
  },
  {
   "cell_type": "markdown",
   "metadata": {},
   "source": [
    "### Solución de sistema por Gauss Jordan"
   ]
  },
  {
   "cell_type": "code",
   "execution_count": 14,
   "metadata": {},
   "outputs": [
    {
     "name": "stdout",
     "output_type": "stream",
     "text": [
      "\n",
      "Solution\n",
      "p1 = 94.97\tp2 = 149.14\tp3 = 112.34\t"
     ]
    }
   ],
   "source": [
    "# Gauss Jordan Elimination\n",
    "for i in range(n):\n",
    "    if a[i][i] == 0.0:\n",
    "        print('Division by zero')\n",
    "        exit()\n",
    "        \n",
    "    for j in range(n):\n",
    "        if i != j:\n",
    "            ratio = a[j][i]/a[i][i]\n",
    "            \n",
    "\n",
    "            for k in range(n+1):\n",
    "                a[j][k] = a[j][k] - ratio * a[i][k]\n",
    "\n",
    "# Calculate solutio\n",
    "for i in range(n):\n",
    "    x[i] = a[i][n]/a[i][i]\n",
    "\n",
    "# Print solution\n",
    "print('\\nSolution')\n",
    "for i in range(n):\n",
    "    print('p%d = %0.2f' %(i+1,x[i]), end = '\\t')"
   ]
  },
  {
   "cell_type": "markdown",
   "metadata": {},
   "source": [
    "## - Problema 3"
   ]
  },
  {
   "cell_type": "code",
   "execution_count": 19,
   "metadata": {},
   "outputs": [],
   "source": [
    "# Variables dependientes separadas\n",
    "lag_y1 = ds['q1'].to_numpy()\n",
    "lag_y2 = ds['q2'].to_numpy()\n",
    "lag_y3 = ds['q3'].to_numpy()\n",
    "\n",
    "# Variables independientes separadas\n",
    "lag_x1 = ds['p1'].to_numpy()\n",
    "lag_x2 = ds['p2'].to_numpy()\n",
    "lag_x3 = ds['p3'].to_numpy()"
   ]
  },
  {
   "cell_type": "code",
   "execution_count": 27,
   "metadata": {},
   "outputs": [
    {
     "data": {
      "text/plain": [
       "array([ 4, 11,  4,  7, 10,  6, 11,  7,  5,  8,  4,  9], dtype=int64)"
      ]
     },
     "execution_count": 27,
     "metadata": {},
     "output_type": "execute_result"
    }
   ],
   "source": [
    "lag_y1"
   ]
  },
  {
   "cell_type": "code",
   "execution_count": 28,
   "metadata": {},
   "outputs": [
    {
     "data": {
      "text/plain": [
       "array([108,  91, 114, 100,  96, 100,  94, 100, 111, 101, 117,  98],\n",
       "      dtype=int64)"
      ]
     },
     "execution_count": 28,
     "metadata": {},
     "output_type": "execute_result"
    }
   ],
   "source": [
    "lag_x1"
   ]
  },
  {
   "cell_type": "code",
   "execution_count": 33,
   "metadata": {},
   "outputs": [],
   "source": [
    "poly = lagrange(lag_x1, lag_y1)"
   ]
  },
  {
   "cell_type": "code",
   "execution_count": 69,
   "metadata": {},
   "outputs": [],
   "source": [
    "x = np.array([4,6,7,10,11])\n",
    "\n",
    "y = np.array([108,100,100,96,94])\n",
    "\n",
    "poly = lagrange(x, y)"
   ]
  },
  {
   "cell_type": "code",
   "execution_count": 70,
   "metadata": {},
   "outputs": [
    {
     "data": {
      "text/plain": [
       "array([ 4.44444444e-02, -1.47777778e+00,  1.77888889e+01, -9.26888889e+01,\n",
       "        2.77333333e+02])"
      ]
     },
     "execution_count": 70,
     "metadata": {},
     "output_type": "execute_result"
    }
   ],
   "source": [
    "Polynomial(poly).coef"
   ]
  },
  {
   "cell_type": "code",
   "execution_count": 57,
   "metadata": {},
   "outputs": [
    {
     "data": {
      "text/plain": [
       "poly1d([nan, nan, nan, nan, nan, nan, nan, nan, nan, nan, nan, nan])"
      ]
     },
     "execution_count": 57,
     "metadata": {},
     "output_type": "execute_result"
    }
   ],
   "source": [
    "poly"
   ]
  }
 ],
 "metadata": {
  "kernelspec": {
   "display_name": "Python 3",
   "language": "python",
   "name": "python3"
  },
  "language_info": {
   "codemirror_mode": {
    "name": "ipython",
    "version": 3
   },
   "file_extension": ".py",
   "mimetype": "text/x-python",
   "name": "python",
   "nbconvert_exporter": "python",
   "pygments_lexer": "ipython3",
   "version": "3.8.2"
  }
 },
 "nbformat": 4,
 "nbformat_minor": 4
}
